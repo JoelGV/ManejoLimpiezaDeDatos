{
  "nbformat": 4,
  "nbformat_minor": 0,
  "metadata": {
    "kernelspec": {
      "name": "python3",
      "display_name": "Python 3"
    },
    "colab": {
      "name": "PreprocesamientoDatosDiabetes.ipynb",
      "provenance": [],
      "include_colab_link": true
    },
    "accelerator": "GPU"
  },
  "cells": [
    {
      "cell_type": "markdown",
      "metadata": {
        "id": "view-in-github",
        "colab_type": "text"
      },
      "source": [
        "<a href=\"https://colab.research.google.com/github/JoelGV/ManejoLimpiezaDeDatos/blob/main/PreprocesamientoDatosDiabetes.ipynb\" target=\"_parent\"><img src=\"https://colab.research.google.com/assets/colab-badge.svg\" alt=\"Open In Colab\"/></a>"
      ]
    },
    {
      "cell_type": "markdown",
      "metadata": {
        "deletable": true,
        "editable": true,
        "id": "-of4jt8sq4yz"
      },
      "source": [
        "# Preprocesamiento de datos\n",
        "\n",
        "En el siguiente ejercicio se realizan tareas del preprocesamiento de datos: limpieza, completar información faltante, codificación, normalización, entre otras.\n",
        "\n",
        "Descripción de las variables:\n",
        "\n",
        "**SystolicBPNBR**: presión sanguínea systólica 128 mm Hg.\n",
        "\n",
        "**LDLNBR**: Relacionado con el colesterol (su concentración) \n",
        "\n",
        "**A1CNBR**: Es una métrica del promedio del nivel de azucar en la sangre de 2 o 3 meses. \n",
        "\n",
        "**ThirtyDayReadmitFLG**: Readmision hospitalaria en pacientes con diabetes(readmision no planificada en los 30 dias despues de salir del hospital, ser dado de alta). "
      ]
    },
    {
      "cell_type": "code",
      "metadata": {
        "deletable": true,
        "editable": true,
        "scrolled": true,
        "id": "jWs5tqH2q4zK"
      },
      "source": [
        "# Importa la librería de Pandas como pd\n",
        "import pandas as pd"
      ],
      "execution_count": null,
      "outputs": []
    },
    {
      "cell_type": "code",
      "metadata": {
        "deletable": true,
        "editable": true,
        "id": "3KeB-XvFq4z1"
      },
      "source": [
        "# Lee el archivo diabetes.csv mediante el método de Pandas correspondiente y almacenalo en la variable dataset.\n",
        "dataset = pd.read_csv('diabetes.csv')"
      ],
      "execution_count": null,
      "outputs": []
    },
    {
      "cell_type": "code",
      "metadata": {
        "deletable": true,
        "editable": true,
        "id": "vC2jEjZ6q40U",
        "colab": {
          "base_uri": "https://localhost:8080/",
          "height": 424
        },
        "outputId": "065715ce-b224-4719-9dfb-cabcd489691a"
      },
      "source": [
        "# Visualiza los registros del dataset.\n",
        "dataset"
      ],
      "execution_count": null,
      "outputs": [
        {
          "output_type": "execute_result",
          "data": {
            "text/html": [
              "<div>\n",
              "<style scoped>\n",
              "    .dataframe tbody tr th:only-of-type {\n",
              "        vertical-align: middle;\n",
              "    }\n",
              "\n",
              "    .dataframe tbody tr th {\n",
              "        vertical-align: top;\n",
              "    }\n",
              "\n",
              "    .dataframe thead th {\n",
              "        text-align: right;\n",
              "    }\n",
              "</style>\n",
              "<table border=\"1\" class=\"dataframe\">\n",
              "  <thead>\n",
              "    <tr style=\"text-align: right;\">\n",
              "      <th></th>\n",
              "      <th>PatientEncounterID</th>\n",
              "      <th>PatientID</th>\n",
              "      <th>SystolicBPNBR</th>\n",
              "      <th>LDLNBR</th>\n",
              "      <th>A1CNBR</th>\n",
              "      <th>GenderFLG</th>\n",
              "      <th>ThirtyDayReadmitFLG</th>\n",
              "    </tr>\n",
              "  </thead>\n",
              "  <tbody>\n",
              "    <tr>\n",
              "      <th>0</th>\n",
              "      <td>1</td>\n",
              "      <td>10001</td>\n",
              "      <td>167</td>\n",
              "      <td>195</td>\n",
              "      <td>4.2</td>\n",
              "      <td>M</td>\n",
              "      <td>N</td>\n",
              "    </tr>\n",
              "    <tr>\n",
              "      <th>1</th>\n",
              "      <td>2</td>\n",
              "      <td>10001</td>\n",
              "      <td>153</td>\n",
              "      <td>214</td>\n",
              "      <td>5</td>\n",
              "      <td>M</td>\n",
              "      <td>N</td>\n",
              "    </tr>\n",
              "    <tr>\n",
              "      <th>2</th>\n",
              "      <td>3</td>\n",
              "      <td>10001</td>\n",
              "      <td>170</td>\n",
              "      <td>191</td>\n",
              "      <td>4</td>\n",
              "      <td>M</td>\n",
              "      <td>N</td>\n",
              "    </tr>\n",
              "    <tr>\n",
              "      <th>3</th>\n",
              "      <td>4</td>\n",
              "      <td>10002</td>\n",
              "      <td>187</td>\n",
              "      <td>135</td>\n",
              "      <td>4.4</td>\n",
              "      <td>M</td>\n",
              "      <td>N</td>\n",
              "    </tr>\n",
              "    <tr>\n",
              "      <th>4</th>\n",
              "      <td>5</td>\n",
              "      <td>10002</td>\n",
              "      <td>188</td>\n",
              "      <td>125</td>\n",
              "      <td>4.3</td>\n",
              "      <td>M</td>\n",
              "      <td>N</td>\n",
              "    </tr>\n",
              "    <tr>\n",
              "      <th>...</th>\n",
              "      <td>...</td>\n",
              "      <td>...</td>\n",
              "      <td>...</td>\n",
              "      <td>...</td>\n",
              "      <td>...</td>\n",
              "      <td>...</td>\n",
              "      <td>...</td>\n",
              "    </tr>\n",
              "    <tr>\n",
              "      <th>995</th>\n",
              "      <td>996</td>\n",
              "      <td>10161</td>\n",
              "      <td>172</td>\n",
              "      <td>209</td>\n",
              "      <td>5</td>\n",
              "      <td>F</td>\n",
              "      <td>N</td>\n",
              "    </tr>\n",
              "    <tr>\n",
              "      <th>996</th>\n",
              "      <td>997</td>\n",
              "      <td>10161</td>\n",
              "      <td>145</td>\n",
              "      <td>151</td>\n",
              "      <td>4.6</td>\n",
              "      <td>F</td>\n",
              "      <td>N</td>\n",
              "    </tr>\n",
              "    <tr>\n",
              "      <th>997</th>\n",
              "      <td>998</td>\n",
              "      <td>10161</td>\n",
              "      <td>138</td>\n",
              "      <td>136</td>\n",
              "      <td>4.4</td>\n",
              "      <td>F</td>\n",
              "      <td>N</td>\n",
              "    </tr>\n",
              "    <tr>\n",
              "      <th>998</th>\n",
              "      <td>999</td>\n",
              "      <td>10161</td>\n",
              "      <td>139</td>\n",
              "      <td>138</td>\n",
              "      <td>4.5</td>\n",
              "      <td>F</td>\n",
              "      <td>N</td>\n",
              "    </tr>\n",
              "    <tr>\n",
              "      <th>999</th>\n",
              "      <td>1000</td>\n",
              "      <td>10161</td>\n",
              "      <td>112</td>\n",
              "      <td>79</td>\n",
              "      <td>4</td>\n",
              "      <td>F</td>\n",
              "      <td>N</td>\n",
              "    </tr>\n",
              "  </tbody>\n",
              "</table>\n",
              "<p>1000 rows × 7 columns</p>\n",
              "</div>"
            ],
            "text/plain": [
              "     PatientEncounterID  PatientID  ... GenderFLG ThirtyDayReadmitFLG\n",
              "0                     1      10001  ...         M                   N\n",
              "1                     2      10001  ...         M                   N\n",
              "2                     3      10001  ...         M                   N\n",
              "3                     4      10002  ...         M                   N\n",
              "4                     5      10002  ...         M                   N\n",
              "..                  ...        ...  ...       ...                 ...\n",
              "995                 996      10161  ...         F                   N\n",
              "996                 997      10161  ...         F                   N\n",
              "997                 998      10161  ...         F                   N\n",
              "998                 999      10161  ...         F                   N\n",
              "999                1000      10161  ...         F                   N\n",
              "\n",
              "[1000 rows x 7 columns]"
            ]
          },
          "metadata": {},
          "execution_count": 213
        }
      ]
    },
    {
      "cell_type": "markdown",
      "metadata": {
        "id": "Efo6h5hhXMDS"
      },
      "source": [
        "## Eliminamos información irrelevante"
      ]
    },
    {
      "cell_type": "code",
      "metadata": {
        "deletable": true,
        "editable": true,
        "id": "iHD133Okq407"
      },
      "source": [
        "# Eliminando las columnas \"PatientEncounterID\" y \"PatientID\"\n",
        "dataset = dataset.drop(['PatientEncounterID', 'PatientID'], axis=1)"
      ],
      "execution_count": null,
      "outputs": []
    },
    {
      "cell_type": "markdown",
      "metadata": {
        "id": "ugCWNyT5Ajzt"
      },
      "source": [
        "### Limpieza de datos"
      ]
    },
    {
      "cell_type": "code",
      "metadata": {
        "deletable": true,
        "editable": true,
        "id": "Ti-qPlHCq41S",
        "colab": {
          "base_uri": "https://localhost:8080/",
          "height": 457
        },
        "outputId": "28a5eede-2974-4522-94ab-bdc0689261be"
      },
      "source": [
        "# Revisamos donde hay datos con None\n",
        "dataset.query('SystolicBPNBR == \"None\" or LDLNBR == \"None\" or A1CNBR == \"None\" or GenderFLG == \"None\" or ThirtyDayReadmitFLG == \"None\"')"
      ],
      "execution_count": null,
      "outputs": [
        {
          "output_type": "execute_result",
          "data": {
            "text/html": [
              "<div>\n",
              "<style scoped>\n",
              "    .dataframe tbody tr th:only-of-type {\n",
              "        vertical-align: middle;\n",
              "    }\n",
              "\n",
              "    .dataframe tbody tr th {\n",
              "        vertical-align: top;\n",
              "    }\n",
              "\n",
              "    .dataframe thead th {\n",
              "        text-align: right;\n",
              "    }\n",
              "</style>\n",
              "<table border=\"1\" class=\"dataframe\">\n",
              "  <thead>\n",
              "    <tr style=\"text-align: right;\">\n",
              "      <th></th>\n",
              "      <th>SystolicBPNBR</th>\n",
              "      <th>LDLNBR</th>\n",
              "      <th>A1CNBR</th>\n",
              "      <th>GenderFLG</th>\n",
              "      <th>ThirtyDayReadmitFLG</th>\n",
              "    </tr>\n",
              "  </thead>\n",
              "  <tbody>\n",
              "    <tr>\n",
              "      <th>81</th>\n",
              "      <td>None</td>\n",
              "      <td>None</td>\n",
              "      <td>None</td>\n",
              "      <td>M</td>\n",
              "      <td>Y</td>\n",
              "    </tr>\n",
              "    <tr>\n",
              "      <th>230</th>\n",
              "      <td>None</td>\n",
              "      <td>None</td>\n",
              "      <td>None</td>\n",
              "      <td>M</td>\n",
              "      <td>None</td>\n",
              "    </tr>\n",
              "    <tr>\n",
              "      <th>300</th>\n",
              "      <td>None</td>\n",
              "      <td>None</td>\n",
              "      <td>None</td>\n",
              "      <td>F</td>\n",
              "      <td>None</td>\n",
              "    </tr>\n",
              "    <tr>\n",
              "      <th>309</th>\n",
              "      <td>None</td>\n",
              "      <td>None</td>\n",
              "      <td>None</td>\n",
              "      <td>F</td>\n",
              "      <td>N</td>\n",
              "    </tr>\n",
              "    <tr>\n",
              "      <th>314</th>\n",
              "      <td>None</td>\n",
              "      <td>None</td>\n",
              "      <td>None</td>\n",
              "      <td>F</td>\n",
              "      <td>N</td>\n",
              "    </tr>\n",
              "    <tr>\n",
              "      <th>376</th>\n",
              "      <td>None</td>\n",
              "      <td>None</td>\n",
              "      <td>None</td>\n",
              "      <td>F</td>\n",
              "      <td>None</td>\n",
              "    </tr>\n",
              "    <tr>\n",
              "      <th>429</th>\n",
              "      <td>None</td>\n",
              "      <td>None</td>\n",
              "      <td>None</td>\n",
              "      <td>F</td>\n",
              "      <td>None</td>\n",
              "    </tr>\n",
              "    <tr>\n",
              "      <th>440</th>\n",
              "      <td>None</td>\n",
              "      <td>None</td>\n",
              "      <td>None</td>\n",
              "      <td>F</td>\n",
              "      <td>None</td>\n",
              "    </tr>\n",
              "    <tr>\n",
              "      <th>520</th>\n",
              "      <td>None</td>\n",
              "      <td>None</td>\n",
              "      <td>None</td>\n",
              "      <td>M</td>\n",
              "      <td>None</td>\n",
              "    </tr>\n",
              "    <tr>\n",
              "      <th>562</th>\n",
              "      <td>None</td>\n",
              "      <td>None</td>\n",
              "      <td>None</td>\n",
              "      <td>F</td>\n",
              "      <td>None</td>\n",
              "    </tr>\n",
              "    <tr>\n",
              "      <th>693</th>\n",
              "      <td>None</td>\n",
              "      <td>None</td>\n",
              "      <td>None</td>\n",
              "      <td>F</td>\n",
              "      <td>None</td>\n",
              "    </tr>\n",
              "    <tr>\n",
              "      <th>731</th>\n",
              "      <td>None</td>\n",
              "      <td>None</td>\n",
              "      <td>None</td>\n",
              "      <td>F</td>\n",
              "      <td>None</td>\n",
              "    </tr>\n",
              "    <tr>\n",
              "      <th>968</th>\n",
              "      <td>None</td>\n",
              "      <td>None</td>\n",
              "      <td>None</td>\n",
              "      <td>F</td>\n",
              "      <td>None</td>\n",
              "    </tr>\n",
              "  </tbody>\n",
              "</table>\n",
              "</div>"
            ],
            "text/plain": [
              "    SystolicBPNBR LDLNBR A1CNBR GenderFLG ThirtyDayReadmitFLG\n",
              "81           None   None   None         M                   Y\n",
              "230          None   None   None         M                None\n",
              "300          None   None   None         F                None\n",
              "309          None   None   None         F                   N\n",
              "314          None   None   None         F                   N\n",
              "376          None   None   None         F                None\n",
              "429          None   None   None         F                None\n",
              "440          None   None   None         F                None\n",
              "520          None   None   None         M                None\n",
              "562          None   None   None         F                None\n",
              "693          None   None   None         F                None\n",
              "731          None   None   None         F                None\n",
              "968          None   None   None         F                None"
            ]
          },
          "metadata": {},
          "execution_count": 215
        }
      ]
    },
    {
      "cell_type": "code",
      "metadata": {
        "colab": {
          "base_uri": "https://localhost:8080/"
        },
        "id": "VT0Xy8jHbU_T",
        "outputId": "c4be0f9a-a3b8-422c-902c-937486a258b2"
      },
      "source": [
        "dataset.SystolicBPNBR"
      ],
      "execution_count": null,
      "outputs": [
        {
          "output_type": "execute_result",
          "data": {
            "text/plain": [
              "0      167\n",
              "1      153\n",
              "2      170\n",
              "3      187\n",
              "4      188\n",
              "      ... \n",
              "995    172\n",
              "996    145\n",
              "997    138\n",
              "998    139\n",
              "999    112\n",
              "Name: SystolicBPNBR, Length: 1000, dtype: object"
            ]
          },
          "metadata": {},
          "execution_count": 216
        }
      ]
    },
    {
      "cell_type": "code",
      "metadata": {
        "colab": {
          "base_uri": "https://localhost:8080/"
        },
        "id": "5cSdKCa9bU6v",
        "outputId": "5ac53b25-6bcb-418a-b46e-027775aa3d73"
      },
      "source": [
        "dataset.LDLNBR"
      ],
      "execution_count": null,
      "outputs": [
        {
          "output_type": "execute_result",
          "data": {
            "text/plain": [
              "0      195\n",
              "1      214\n",
              "2      191\n",
              "3      135\n",
              "4      125\n",
              "      ... \n",
              "995    209\n",
              "996    151\n",
              "997    136\n",
              "998    138\n",
              "999     79\n",
              "Name: LDLNBR, Length: 1000, dtype: object"
            ]
          },
          "metadata": {},
          "execution_count": 217
        }
      ]
    },
    {
      "cell_type": "markdown",
      "metadata": {
        "deletable": true,
        "editable": true,
        "id": "aWkutoaLq41t"
      },
      "source": [
        "## Limpieza columna SystolicBPNBR "
      ]
    },
    {
      "cell_type": "code",
      "metadata": {
        "deletable": true,
        "editable": true,
        "id": "NAmS2uomq411",
        "colab": {
          "base_uri": "https://localhost:8080/",
          "height": 143
        },
        "outputId": "aea7420d-c34e-497e-98f1-3554b7e4ec7a"
      },
      "source": [
        "# Arreglamos los None para la columna SystolicBPNBR para usuarios masculinos\n",
        "#dataset = dataset.drop(81, axis = 0)\n",
        "dataset.query('GenderFLG == \"M\" and SystolicBPNBR == \"None\"')"
      ],
      "execution_count": null,
      "outputs": [
        {
          "output_type": "execute_result",
          "data": {
            "text/html": [
              "<div>\n",
              "<style scoped>\n",
              "    .dataframe tbody tr th:only-of-type {\n",
              "        vertical-align: middle;\n",
              "    }\n",
              "\n",
              "    .dataframe tbody tr th {\n",
              "        vertical-align: top;\n",
              "    }\n",
              "\n",
              "    .dataframe thead th {\n",
              "        text-align: right;\n",
              "    }\n",
              "</style>\n",
              "<table border=\"1\" class=\"dataframe\">\n",
              "  <thead>\n",
              "    <tr style=\"text-align: right;\">\n",
              "      <th></th>\n",
              "      <th>SystolicBPNBR</th>\n",
              "      <th>LDLNBR</th>\n",
              "      <th>A1CNBR</th>\n",
              "      <th>GenderFLG</th>\n",
              "      <th>ThirtyDayReadmitFLG</th>\n",
              "    </tr>\n",
              "  </thead>\n",
              "  <tbody>\n",
              "    <tr>\n",
              "      <th>81</th>\n",
              "      <td>None</td>\n",
              "      <td>None</td>\n",
              "      <td>None</td>\n",
              "      <td>M</td>\n",
              "      <td>Y</td>\n",
              "    </tr>\n",
              "    <tr>\n",
              "      <th>230</th>\n",
              "      <td>None</td>\n",
              "      <td>None</td>\n",
              "      <td>None</td>\n",
              "      <td>M</td>\n",
              "      <td>None</td>\n",
              "    </tr>\n",
              "    <tr>\n",
              "      <th>520</th>\n",
              "      <td>None</td>\n",
              "      <td>None</td>\n",
              "      <td>None</td>\n",
              "      <td>M</td>\n",
              "      <td>None</td>\n",
              "    </tr>\n",
              "  </tbody>\n",
              "</table>\n",
              "</div>"
            ],
            "text/plain": [
              "    SystolicBPNBR LDLNBR A1CNBR GenderFLG ThirtyDayReadmitFLG\n",
              "81           None   None   None         M                   Y\n",
              "230          None   None   None         M                None\n",
              "520          None   None   None         M                None"
            ]
          },
          "metadata": {},
          "execution_count": 218
        }
      ]
    },
    {
      "cell_type": "code",
      "metadata": {
        "deletable": true,
        "editable": true,
        "id": "jGQ9Y4enq42I",
        "colab": {
          "base_uri": "https://localhost:8080/"
        },
        "outputId": "0a12cf96-4a49-45b7-f480-858b351d7b50"
      },
      "source": [
        "# Encontramos el promedio de la columna SystolicBPNBR para hombres\n",
        "#round(data.query('GenderFLG == \\'M\\' and SystolicBPNBR != \\'None\\'')['SystolicBPNBR'].astype('int16').mean())\n",
        "mSystolic = dataset.query('GenderFLG == \"M\" and SystolicBPNBR != \"None\"')['SystolicBPNBR'].astype('int16')\n",
        "mean_mSystolic = sum(mSystolic)/mSystolic.count()\n",
        "print(round(mean_mSystolic)) "
      ],
      "execution_count": null,
      "outputs": [
        {
          "output_type": "stream",
          "text": [
            "149\n"
          ],
          "name": "stdout"
        }
      ]
    },
    {
      "cell_type": "code",
      "metadata": {
        "deletable": true,
        "editable": true,
        "id": "uRjlXQ6Yq42k",
        "colab": {
          "base_uri": "https://localhost:8080/",
          "height": 49
        },
        "outputId": "66061492-47a6-4263-e738-888fe9d3a325"
      },
      "source": [
        "# Actualización de datos en la columna Systolic\n",
        "#data.iat[81,1] = '149'\n",
        "#data.iat[230,1] = '149'\n",
        "#data.iat[520,1] = '149'\n",
        "dataset.loc[(dataset.GenderFLG == 'M') & (dataset.SystolicBPNBR == 'None'), 'SystolicBPNBR'] = 149\n",
        "dataset.query('GenderFLG == \"M\" and SystolicBPNBR == \"None\"')"
      ],
      "execution_count": null,
      "outputs": [
        {
          "output_type": "execute_result",
          "data": {
            "text/html": [
              "<div>\n",
              "<style scoped>\n",
              "    .dataframe tbody tr th:only-of-type {\n",
              "        vertical-align: middle;\n",
              "    }\n",
              "\n",
              "    .dataframe tbody tr th {\n",
              "        vertical-align: top;\n",
              "    }\n",
              "\n",
              "    .dataframe thead th {\n",
              "        text-align: right;\n",
              "    }\n",
              "</style>\n",
              "<table border=\"1\" class=\"dataframe\">\n",
              "  <thead>\n",
              "    <tr style=\"text-align: right;\">\n",
              "      <th></th>\n",
              "      <th>SystolicBPNBR</th>\n",
              "      <th>LDLNBR</th>\n",
              "      <th>A1CNBR</th>\n",
              "      <th>GenderFLG</th>\n",
              "      <th>ThirtyDayReadmitFLG</th>\n",
              "    </tr>\n",
              "  </thead>\n",
              "  <tbody>\n",
              "  </tbody>\n",
              "</table>\n",
              "</div>"
            ],
            "text/plain": [
              "Empty DataFrame\n",
              "Columns: [SystolicBPNBR, LDLNBR, A1CNBR, GenderFLG, ThirtyDayReadmitFLG]\n",
              "Index: []"
            ]
          },
          "metadata": {},
          "execution_count": 220
        }
      ]
    },
    {
      "cell_type": "code",
      "metadata": {
        "deletable": true,
        "editable": true,
        "id": "OwBr_WD7q43G",
        "colab": {
          "base_uri": "https://localhost:8080/",
          "height": 363
        },
        "outputId": "f8cfe10b-9604-40bb-c4ee-4aec168da3c6"
      },
      "source": [
        "# Arreglamos los None para la columna SystolicBPNBR para usuarios femeninos\n",
        "dataset.query('GenderFLG == \"F\" and SystolicBPNBR == \"None\"')"
      ],
      "execution_count": null,
      "outputs": [
        {
          "output_type": "execute_result",
          "data": {
            "text/html": [
              "<div>\n",
              "<style scoped>\n",
              "    .dataframe tbody tr th:only-of-type {\n",
              "        vertical-align: middle;\n",
              "    }\n",
              "\n",
              "    .dataframe tbody tr th {\n",
              "        vertical-align: top;\n",
              "    }\n",
              "\n",
              "    .dataframe thead th {\n",
              "        text-align: right;\n",
              "    }\n",
              "</style>\n",
              "<table border=\"1\" class=\"dataframe\">\n",
              "  <thead>\n",
              "    <tr style=\"text-align: right;\">\n",
              "      <th></th>\n",
              "      <th>SystolicBPNBR</th>\n",
              "      <th>LDLNBR</th>\n",
              "      <th>A1CNBR</th>\n",
              "      <th>GenderFLG</th>\n",
              "      <th>ThirtyDayReadmitFLG</th>\n",
              "    </tr>\n",
              "  </thead>\n",
              "  <tbody>\n",
              "    <tr>\n",
              "      <th>300</th>\n",
              "      <td>None</td>\n",
              "      <td>None</td>\n",
              "      <td>None</td>\n",
              "      <td>F</td>\n",
              "      <td>None</td>\n",
              "    </tr>\n",
              "    <tr>\n",
              "      <th>309</th>\n",
              "      <td>None</td>\n",
              "      <td>None</td>\n",
              "      <td>None</td>\n",
              "      <td>F</td>\n",
              "      <td>N</td>\n",
              "    </tr>\n",
              "    <tr>\n",
              "      <th>314</th>\n",
              "      <td>None</td>\n",
              "      <td>None</td>\n",
              "      <td>None</td>\n",
              "      <td>F</td>\n",
              "      <td>N</td>\n",
              "    </tr>\n",
              "    <tr>\n",
              "      <th>376</th>\n",
              "      <td>None</td>\n",
              "      <td>None</td>\n",
              "      <td>None</td>\n",
              "      <td>F</td>\n",
              "      <td>None</td>\n",
              "    </tr>\n",
              "    <tr>\n",
              "      <th>429</th>\n",
              "      <td>None</td>\n",
              "      <td>None</td>\n",
              "      <td>None</td>\n",
              "      <td>F</td>\n",
              "      <td>None</td>\n",
              "    </tr>\n",
              "    <tr>\n",
              "      <th>440</th>\n",
              "      <td>None</td>\n",
              "      <td>None</td>\n",
              "      <td>None</td>\n",
              "      <td>F</td>\n",
              "      <td>None</td>\n",
              "    </tr>\n",
              "    <tr>\n",
              "      <th>562</th>\n",
              "      <td>None</td>\n",
              "      <td>None</td>\n",
              "      <td>None</td>\n",
              "      <td>F</td>\n",
              "      <td>None</td>\n",
              "    </tr>\n",
              "    <tr>\n",
              "      <th>693</th>\n",
              "      <td>None</td>\n",
              "      <td>None</td>\n",
              "      <td>None</td>\n",
              "      <td>F</td>\n",
              "      <td>None</td>\n",
              "    </tr>\n",
              "    <tr>\n",
              "      <th>731</th>\n",
              "      <td>None</td>\n",
              "      <td>None</td>\n",
              "      <td>None</td>\n",
              "      <td>F</td>\n",
              "      <td>None</td>\n",
              "    </tr>\n",
              "    <tr>\n",
              "      <th>968</th>\n",
              "      <td>None</td>\n",
              "      <td>None</td>\n",
              "      <td>None</td>\n",
              "      <td>F</td>\n",
              "      <td>None</td>\n",
              "    </tr>\n",
              "  </tbody>\n",
              "</table>\n",
              "</div>"
            ],
            "text/plain": [
              "    SystolicBPNBR LDLNBR A1CNBR GenderFLG ThirtyDayReadmitFLG\n",
              "300          None   None   None         F                None\n",
              "309          None   None   None         F                   N\n",
              "314          None   None   None         F                   N\n",
              "376          None   None   None         F                None\n",
              "429          None   None   None         F                None\n",
              "440          None   None   None         F                None\n",
              "562          None   None   None         F                None\n",
              "693          None   None   None         F                None\n",
              "731          None   None   None         F                None\n",
              "968          None   None   None         F                None"
            ]
          },
          "metadata": {},
          "execution_count": 221
        }
      ]
    },
    {
      "cell_type": "code",
      "metadata": {
        "deletable": true,
        "editable": true,
        "id": "7jHJjn5cq43h",
        "colab": {
          "base_uri": "https://localhost:8080/"
        },
        "outputId": "3ad702ca-7bdf-4747-8976-ac7376ace474"
      },
      "source": [
        "round(dataset.query('GenderFLG == \"F\" and SystolicBPNBR != \"None\"')['SystolicBPNBR'].astype('int16').mean())"
      ],
      "execution_count": null,
      "outputs": [
        {
          "output_type": "execute_result",
          "data": {
            "text/plain": [
              "150"
            ]
          },
          "metadata": {},
          "execution_count": 222
        }
      ]
    },
    {
      "cell_type": "code",
      "metadata": {
        "deletable": true,
        "editable": true,
        "id": "33PiIUrfq439",
        "colab": {
          "base_uri": "https://localhost:8080/",
          "height": 49
        },
        "outputId": "4a60ffe0-fe2f-4210-f605-cc70ea18ce9f"
      },
      "source": [
        "dataset.loc[(dataset.GenderFLG == 'F') & (dataset.SystolicBPNBR == 'None'), 'SystolicBPNBR'] = 150\n",
        "dataset.query('GenderFLG == \"F\" and SystolicBPNBR == \"None\"')"
      ],
      "execution_count": null,
      "outputs": [
        {
          "output_type": "execute_result",
          "data": {
            "text/html": [
              "<div>\n",
              "<style scoped>\n",
              "    .dataframe tbody tr th:only-of-type {\n",
              "        vertical-align: middle;\n",
              "    }\n",
              "\n",
              "    .dataframe tbody tr th {\n",
              "        vertical-align: top;\n",
              "    }\n",
              "\n",
              "    .dataframe thead th {\n",
              "        text-align: right;\n",
              "    }\n",
              "</style>\n",
              "<table border=\"1\" class=\"dataframe\">\n",
              "  <thead>\n",
              "    <tr style=\"text-align: right;\">\n",
              "      <th></th>\n",
              "      <th>SystolicBPNBR</th>\n",
              "      <th>LDLNBR</th>\n",
              "      <th>A1CNBR</th>\n",
              "      <th>GenderFLG</th>\n",
              "      <th>ThirtyDayReadmitFLG</th>\n",
              "    </tr>\n",
              "  </thead>\n",
              "  <tbody>\n",
              "  </tbody>\n",
              "</table>\n",
              "</div>"
            ],
            "text/plain": [
              "Empty DataFrame\n",
              "Columns: [SystolicBPNBR, LDLNBR, A1CNBR, GenderFLG, ThirtyDayReadmitFLG]\n",
              "Index: []"
            ]
          },
          "metadata": {},
          "execution_count": 223
        }
      ]
    },
    {
      "cell_type": "markdown",
      "metadata": {
        "deletable": true,
        "editable": true,
        "id": "YFXdWyN8q44T"
      },
      "source": [
        "## Limpieza columna LDLNBR"
      ]
    },
    {
      "cell_type": "code",
      "metadata": {
        "deletable": true,
        "editable": true,
        "id": "KS7gra9nq44X",
        "colab": {
          "base_uri": "https://localhost:8080/",
          "height": 143
        },
        "outputId": "68be6fea-a3b2-474a-8b95-2f47a5b10ea6"
      },
      "source": [
        "# Arreglamos los None para la columna LDLNBR para usuarios masculinos\n",
        "dataset.query('GenderFLG == \"M\" and LDLNBR == \"None\"')"
      ],
      "execution_count": null,
      "outputs": [
        {
          "output_type": "execute_result",
          "data": {
            "text/html": [
              "<div>\n",
              "<style scoped>\n",
              "    .dataframe tbody tr th:only-of-type {\n",
              "        vertical-align: middle;\n",
              "    }\n",
              "\n",
              "    .dataframe tbody tr th {\n",
              "        vertical-align: top;\n",
              "    }\n",
              "\n",
              "    .dataframe thead th {\n",
              "        text-align: right;\n",
              "    }\n",
              "</style>\n",
              "<table border=\"1\" class=\"dataframe\">\n",
              "  <thead>\n",
              "    <tr style=\"text-align: right;\">\n",
              "      <th></th>\n",
              "      <th>SystolicBPNBR</th>\n",
              "      <th>LDLNBR</th>\n",
              "      <th>A1CNBR</th>\n",
              "      <th>GenderFLG</th>\n",
              "      <th>ThirtyDayReadmitFLG</th>\n",
              "    </tr>\n",
              "  </thead>\n",
              "  <tbody>\n",
              "    <tr>\n",
              "      <th>81</th>\n",
              "      <td>149</td>\n",
              "      <td>None</td>\n",
              "      <td>None</td>\n",
              "      <td>M</td>\n",
              "      <td>Y</td>\n",
              "    </tr>\n",
              "    <tr>\n",
              "      <th>230</th>\n",
              "      <td>149</td>\n",
              "      <td>None</td>\n",
              "      <td>None</td>\n",
              "      <td>M</td>\n",
              "      <td>None</td>\n",
              "    </tr>\n",
              "    <tr>\n",
              "      <th>520</th>\n",
              "      <td>149</td>\n",
              "      <td>None</td>\n",
              "      <td>None</td>\n",
              "      <td>M</td>\n",
              "      <td>None</td>\n",
              "    </tr>\n",
              "  </tbody>\n",
              "</table>\n",
              "</div>"
            ],
            "text/plain": [
              "    SystolicBPNBR LDLNBR A1CNBR GenderFLG ThirtyDayReadmitFLG\n",
              "81            149   None   None         M                   Y\n",
              "230           149   None   None         M                None\n",
              "520           149   None   None         M                None"
            ]
          },
          "metadata": {},
          "execution_count": 224
        }
      ]
    },
    {
      "cell_type": "code",
      "metadata": {
        "deletable": true,
        "editable": true,
        "id": "E9emLGQcq44p",
        "colab": {
          "base_uri": "https://localhost:8080/"
        },
        "outputId": "7f356a7a-ea42-43d0-b0fb-78d059a21591"
      },
      "source": [
        "round(dataset.query('GenderFLG == \"M\" and LDLNBR != \"None\"')['LDLNBR'].astype('int16').mean())"
      ],
      "execution_count": null,
      "outputs": [
        {
          "output_type": "execute_result",
          "data": {
            "text/plain": [
              "139"
            ]
          },
          "metadata": {},
          "execution_count": 225
        }
      ]
    },
    {
      "cell_type": "code",
      "metadata": {
        "deletable": true,
        "editable": true,
        "id": "7DskpR4mq45A",
        "colab": {
          "base_uri": "https://localhost:8080/",
          "height": 49
        },
        "outputId": "4f213e1e-4fba-42dc-92f5-660b326c4c16"
      },
      "source": [
        "dataset.loc[(dataset.GenderFLG == 'M') & (dataset.LDLNBR == 'None'), 'LDLNBR'] = 139\n",
        "dataset.query('GenderFLG == \"M\" and LDLNBR == \"None\"')"
      ],
      "execution_count": null,
      "outputs": [
        {
          "output_type": "execute_result",
          "data": {
            "text/html": [
              "<div>\n",
              "<style scoped>\n",
              "    .dataframe tbody tr th:only-of-type {\n",
              "        vertical-align: middle;\n",
              "    }\n",
              "\n",
              "    .dataframe tbody tr th {\n",
              "        vertical-align: top;\n",
              "    }\n",
              "\n",
              "    .dataframe thead th {\n",
              "        text-align: right;\n",
              "    }\n",
              "</style>\n",
              "<table border=\"1\" class=\"dataframe\">\n",
              "  <thead>\n",
              "    <tr style=\"text-align: right;\">\n",
              "      <th></th>\n",
              "      <th>SystolicBPNBR</th>\n",
              "      <th>LDLNBR</th>\n",
              "      <th>A1CNBR</th>\n",
              "      <th>GenderFLG</th>\n",
              "      <th>ThirtyDayReadmitFLG</th>\n",
              "    </tr>\n",
              "  </thead>\n",
              "  <tbody>\n",
              "  </tbody>\n",
              "</table>\n",
              "</div>"
            ],
            "text/plain": [
              "Empty DataFrame\n",
              "Columns: [SystolicBPNBR, LDLNBR, A1CNBR, GenderFLG, ThirtyDayReadmitFLG]\n",
              "Index: []"
            ]
          },
          "metadata": {},
          "execution_count": 226
        }
      ]
    },
    {
      "cell_type": "code",
      "metadata": {
        "deletable": true,
        "editable": true,
        "id": "WbujyLbRq45W",
        "colab": {
          "base_uri": "https://localhost:8080/",
          "height": 363
        },
        "outputId": "d72576a1-6966-4bfe-8385-6a627c0911ab"
      },
      "source": [
        "# Arreglamos los None para la columna LDLNBR para usuarios femeninos\n",
        "dataset.query('GenderFLG == \"F\" and LDLNBR == \"None\"')"
      ],
      "execution_count": null,
      "outputs": [
        {
          "output_type": "execute_result",
          "data": {
            "text/html": [
              "<div>\n",
              "<style scoped>\n",
              "    .dataframe tbody tr th:only-of-type {\n",
              "        vertical-align: middle;\n",
              "    }\n",
              "\n",
              "    .dataframe tbody tr th {\n",
              "        vertical-align: top;\n",
              "    }\n",
              "\n",
              "    .dataframe thead th {\n",
              "        text-align: right;\n",
              "    }\n",
              "</style>\n",
              "<table border=\"1\" class=\"dataframe\">\n",
              "  <thead>\n",
              "    <tr style=\"text-align: right;\">\n",
              "      <th></th>\n",
              "      <th>SystolicBPNBR</th>\n",
              "      <th>LDLNBR</th>\n",
              "      <th>A1CNBR</th>\n",
              "      <th>GenderFLG</th>\n",
              "      <th>ThirtyDayReadmitFLG</th>\n",
              "    </tr>\n",
              "  </thead>\n",
              "  <tbody>\n",
              "    <tr>\n",
              "      <th>300</th>\n",
              "      <td>150</td>\n",
              "      <td>None</td>\n",
              "      <td>None</td>\n",
              "      <td>F</td>\n",
              "      <td>None</td>\n",
              "    </tr>\n",
              "    <tr>\n",
              "      <th>309</th>\n",
              "      <td>150</td>\n",
              "      <td>None</td>\n",
              "      <td>None</td>\n",
              "      <td>F</td>\n",
              "      <td>N</td>\n",
              "    </tr>\n",
              "    <tr>\n",
              "      <th>314</th>\n",
              "      <td>150</td>\n",
              "      <td>None</td>\n",
              "      <td>None</td>\n",
              "      <td>F</td>\n",
              "      <td>N</td>\n",
              "    </tr>\n",
              "    <tr>\n",
              "      <th>376</th>\n",
              "      <td>150</td>\n",
              "      <td>None</td>\n",
              "      <td>None</td>\n",
              "      <td>F</td>\n",
              "      <td>None</td>\n",
              "    </tr>\n",
              "    <tr>\n",
              "      <th>429</th>\n",
              "      <td>150</td>\n",
              "      <td>None</td>\n",
              "      <td>None</td>\n",
              "      <td>F</td>\n",
              "      <td>None</td>\n",
              "    </tr>\n",
              "    <tr>\n",
              "      <th>440</th>\n",
              "      <td>150</td>\n",
              "      <td>None</td>\n",
              "      <td>None</td>\n",
              "      <td>F</td>\n",
              "      <td>None</td>\n",
              "    </tr>\n",
              "    <tr>\n",
              "      <th>562</th>\n",
              "      <td>150</td>\n",
              "      <td>None</td>\n",
              "      <td>None</td>\n",
              "      <td>F</td>\n",
              "      <td>None</td>\n",
              "    </tr>\n",
              "    <tr>\n",
              "      <th>693</th>\n",
              "      <td>150</td>\n",
              "      <td>None</td>\n",
              "      <td>None</td>\n",
              "      <td>F</td>\n",
              "      <td>None</td>\n",
              "    </tr>\n",
              "    <tr>\n",
              "      <th>731</th>\n",
              "      <td>150</td>\n",
              "      <td>None</td>\n",
              "      <td>None</td>\n",
              "      <td>F</td>\n",
              "      <td>None</td>\n",
              "    </tr>\n",
              "    <tr>\n",
              "      <th>968</th>\n",
              "      <td>150</td>\n",
              "      <td>None</td>\n",
              "      <td>None</td>\n",
              "      <td>F</td>\n",
              "      <td>None</td>\n",
              "    </tr>\n",
              "  </tbody>\n",
              "</table>\n",
              "</div>"
            ],
            "text/plain": [
              "    SystolicBPNBR LDLNBR A1CNBR GenderFLG ThirtyDayReadmitFLG\n",
              "300           150   None   None         F                None\n",
              "309           150   None   None         F                   N\n",
              "314           150   None   None         F                   N\n",
              "376           150   None   None         F                None\n",
              "429           150   None   None         F                None\n",
              "440           150   None   None         F                None\n",
              "562           150   None   None         F                None\n",
              "693           150   None   None         F                None\n",
              "731           150   None   None         F                None\n",
              "968           150   None   None         F                None"
            ]
          },
          "metadata": {},
          "execution_count": 227
        }
      ]
    },
    {
      "cell_type": "code",
      "metadata": {
        "deletable": true,
        "editable": true,
        "id": "oc5FU5Qkq45s",
        "colab": {
          "base_uri": "https://localhost:8080/"
        },
        "outputId": "4b42a4b1-7d37-4bd9-8b00-28c987edd9aa"
      },
      "source": [
        "round(dataset.query('GenderFLG == \"F\" and LDLNBR != \"None\"')['LDLNBR'].astype('int16').mean())"
      ],
      "execution_count": null,
      "outputs": [
        {
          "output_type": "execute_result",
          "data": {
            "text/plain": [
              "147"
            ]
          },
          "metadata": {},
          "execution_count": 228
        }
      ]
    },
    {
      "cell_type": "code",
      "metadata": {
        "deletable": true,
        "editable": true,
        "id": "sj6vXZZJq459",
        "colab": {
          "base_uri": "https://localhost:8080/",
          "height": 49
        },
        "outputId": "07cc65ec-829e-4a6e-80db-1592c0c3885a"
      },
      "source": [
        "dataset.loc[(dataset.GenderFLG == 'F') & (dataset.LDLNBR == 'None'), 'LDLNBR'] = 147\n",
        "dataset.query('GenderFLG == \"F\" and LDLNBR == \"None\"')"
      ],
      "execution_count": null,
      "outputs": [
        {
          "output_type": "execute_result",
          "data": {
            "text/html": [
              "<div>\n",
              "<style scoped>\n",
              "    .dataframe tbody tr th:only-of-type {\n",
              "        vertical-align: middle;\n",
              "    }\n",
              "\n",
              "    .dataframe tbody tr th {\n",
              "        vertical-align: top;\n",
              "    }\n",
              "\n",
              "    .dataframe thead th {\n",
              "        text-align: right;\n",
              "    }\n",
              "</style>\n",
              "<table border=\"1\" class=\"dataframe\">\n",
              "  <thead>\n",
              "    <tr style=\"text-align: right;\">\n",
              "      <th></th>\n",
              "      <th>SystolicBPNBR</th>\n",
              "      <th>LDLNBR</th>\n",
              "      <th>A1CNBR</th>\n",
              "      <th>GenderFLG</th>\n",
              "      <th>ThirtyDayReadmitFLG</th>\n",
              "    </tr>\n",
              "  </thead>\n",
              "  <tbody>\n",
              "  </tbody>\n",
              "</table>\n",
              "</div>"
            ],
            "text/plain": [
              "Empty DataFrame\n",
              "Columns: [SystolicBPNBR, LDLNBR, A1CNBR, GenderFLG, ThirtyDayReadmitFLG]\n",
              "Index: []"
            ]
          },
          "metadata": {},
          "execution_count": 229
        }
      ]
    },
    {
      "cell_type": "markdown",
      "metadata": {
        "deletable": true,
        "editable": true,
        "id": "ZGyuCZSVq46O"
      },
      "source": [
        "## Limpieza columna ThirtyDayReadmitFLG"
      ]
    },
    {
      "cell_type": "code",
      "metadata": {
        "deletable": true,
        "editable": true,
        "id": "UeNX_vajq46X",
        "colab": {
          "base_uri": "https://localhost:8080/",
          "height": 112
        },
        "outputId": "a1014915-151c-42d2-ce87-52d5af4fbe48"
      },
      "source": [
        "# Arreglamos los None para la columna ThirtyDayReadmitFLG para usuarios masculinos\n",
        "dataset.query('GenderFLG == \"M\" and ThirtyDayReadmitFLG == \"None\"')"
      ],
      "execution_count": null,
      "outputs": [
        {
          "output_type": "execute_result",
          "data": {
            "text/html": [
              "<div>\n",
              "<style scoped>\n",
              "    .dataframe tbody tr th:only-of-type {\n",
              "        vertical-align: middle;\n",
              "    }\n",
              "\n",
              "    .dataframe tbody tr th {\n",
              "        vertical-align: top;\n",
              "    }\n",
              "\n",
              "    .dataframe thead th {\n",
              "        text-align: right;\n",
              "    }\n",
              "</style>\n",
              "<table border=\"1\" class=\"dataframe\">\n",
              "  <thead>\n",
              "    <tr style=\"text-align: right;\">\n",
              "      <th></th>\n",
              "      <th>SystolicBPNBR</th>\n",
              "      <th>LDLNBR</th>\n",
              "      <th>A1CNBR</th>\n",
              "      <th>GenderFLG</th>\n",
              "      <th>ThirtyDayReadmitFLG</th>\n",
              "    </tr>\n",
              "  </thead>\n",
              "  <tbody>\n",
              "    <tr>\n",
              "      <th>230</th>\n",
              "      <td>149</td>\n",
              "      <td>139</td>\n",
              "      <td>None</td>\n",
              "      <td>M</td>\n",
              "      <td>None</td>\n",
              "    </tr>\n",
              "    <tr>\n",
              "      <th>520</th>\n",
              "      <td>149</td>\n",
              "      <td>139</td>\n",
              "      <td>None</td>\n",
              "      <td>M</td>\n",
              "      <td>None</td>\n",
              "    </tr>\n",
              "  </tbody>\n",
              "</table>\n",
              "</div>"
            ],
            "text/plain": [
              "    SystolicBPNBR LDLNBR A1CNBR GenderFLG ThirtyDayReadmitFLG\n",
              "230           149    139   None         M                None\n",
              "520           149    139   None         M                None"
            ]
          },
          "metadata": {},
          "execution_count": 230
        }
      ]
    },
    {
      "cell_type": "code",
      "metadata": {
        "deletable": true,
        "editable": true,
        "id": "vx-UM6Acq46v",
        "colab": {
          "base_uri": "https://localhost:8080/",
          "height": 143
        },
        "outputId": "a633600c-3b52-4620-b7c9-9ecd78fecefd"
      },
      "source": [
        "dataset.query('GenderFLG == \"M\" and SystolicBPNBR == 149 and LDLNBR == 139')"
      ],
      "execution_count": null,
      "outputs": [
        {
          "output_type": "execute_result",
          "data": {
            "text/html": [
              "<div>\n",
              "<style scoped>\n",
              "    .dataframe tbody tr th:only-of-type {\n",
              "        vertical-align: middle;\n",
              "    }\n",
              "\n",
              "    .dataframe tbody tr th {\n",
              "        vertical-align: top;\n",
              "    }\n",
              "\n",
              "    .dataframe thead th {\n",
              "        text-align: right;\n",
              "    }\n",
              "</style>\n",
              "<table border=\"1\" class=\"dataframe\">\n",
              "  <thead>\n",
              "    <tr style=\"text-align: right;\">\n",
              "      <th></th>\n",
              "      <th>SystolicBPNBR</th>\n",
              "      <th>LDLNBR</th>\n",
              "      <th>A1CNBR</th>\n",
              "      <th>GenderFLG</th>\n",
              "      <th>ThirtyDayReadmitFLG</th>\n",
              "    </tr>\n",
              "  </thead>\n",
              "  <tbody>\n",
              "    <tr>\n",
              "      <th>81</th>\n",
              "      <td>149</td>\n",
              "      <td>139</td>\n",
              "      <td>None</td>\n",
              "      <td>M</td>\n",
              "      <td>Y</td>\n",
              "    </tr>\n",
              "    <tr>\n",
              "      <th>230</th>\n",
              "      <td>149</td>\n",
              "      <td>139</td>\n",
              "      <td>None</td>\n",
              "      <td>M</td>\n",
              "      <td>None</td>\n",
              "    </tr>\n",
              "    <tr>\n",
              "      <th>520</th>\n",
              "      <td>149</td>\n",
              "      <td>139</td>\n",
              "      <td>None</td>\n",
              "      <td>M</td>\n",
              "      <td>None</td>\n",
              "    </tr>\n",
              "  </tbody>\n",
              "</table>\n",
              "</div>"
            ],
            "text/plain": [
              "    SystolicBPNBR LDLNBR A1CNBR GenderFLG ThirtyDayReadmitFLG\n",
              "81            149    139   None         M                   Y\n",
              "230           149    139   None         M                None\n",
              "520           149    139   None         M                None"
            ]
          },
          "metadata": {},
          "execution_count": 231
        }
      ]
    },
    {
      "cell_type": "code",
      "metadata": {
        "deletable": true,
        "editable": true,
        "id": "3RIeyj43q47M",
        "colab": {
          "base_uri": "https://localhost:8080/",
          "height": 49
        },
        "outputId": "673c1e3f-a8a5-4e61-b84b-02f22a7308f1"
      },
      "source": [
        "dataset.loc[(dataset.GenderFLG == 'M') & (dataset.SystolicBPNBR == 149) & (dataset.LDLNBR == 139), 'ThirtyDayReadmitFLG'] = 'Y'\n",
        "dataset.query('GenderFLG == \"M\" and ThirtyDayReadmitFLG == \"None\"')"
      ],
      "execution_count": null,
      "outputs": [
        {
          "output_type": "execute_result",
          "data": {
            "text/html": [
              "<div>\n",
              "<style scoped>\n",
              "    .dataframe tbody tr th:only-of-type {\n",
              "        vertical-align: middle;\n",
              "    }\n",
              "\n",
              "    .dataframe tbody tr th {\n",
              "        vertical-align: top;\n",
              "    }\n",
              "\n",
              "    .dataframe thead th {\n",
              "        text-align: right;\n",
              "    }\n",
              "</style>\n",
              "<table border=\"1\" class=\"dataframe\">\n",
              "  <thead>\n",
              "    <tr style=\"text-align: right;\">\n",
              "      <th></th>\n",
              "      <th>SystolicBPNBR</th>\n",
              "      <th>LDLNBR</th>\n",
              "      <th>A1CNBR</th>\n",
              "      <th>GenderFLG</th>\n",
              "      <th>ThirtyDayReadmitFLG</th>\n",
              "    </tr>\n",
              "  </thead>\n",
              "  <tbody>\n",
              "  </tbody>\n",
              "</table>\n",
              "</div>"
            ],
            "text/plain": [
              "Empty DataFrame\n",
              "Columns: [SystolicBPNBR, LDLNBR, A1CNBR, GenderFLG, ThirtyDayReadmitFLG]\n",
              "Index: []"
            ]
          },
          "metadata": {},
          "execution_count": 232
        }
      ]
    },
    {
      "cell_type": "code",
      "metadata": {
        "deletable": true,
        "editable": true,
        "id": "jHNk8qg-q47f",
        "colab": {
          "base_uri": "https://localhost:8080/",
          "height": 300
        },
        "outputId": "cd3d6636-4b49-4ce3-ac3a-3afdb7f88b33"
      },
      "source": [
        "# Arreglamos los None para la columna ThirtyDayReadmitFLG para usuarios femeninos\n",
        "dataset.query('GenderFLG == \"F\" and ThirtyDayReadmitFLG == \"None\"')"
      ],
      "execution_count": null,
      "outputs": [
        {
          "output_type": "execute_result",
          "data": {
            "text/html": [
              "<div>\n",
              "<style scoped>\n",
              "    .dataframe tbody tr th:only-of-type {\n",
              "        vertical-align: middle;\n",
              "    }\n",
              "\n",
              "    .dataframe tbody tr th {\n",
              "        vertical-align: top;\n",
              "    }\n",
              "\n",
              "    .dataframe thead th {\n",
              "        text-align: right;\n",
              "    }\n",
              "</style>\n",
              "<table border=\"1\" class=\"dataframe\">\n",
              "  <thead>\n",
              "    <tr style=\"text-align: right;\">\n",
              "      <th></th>\n",
              "      <th>SystolicBPNBR</th>\n",
              "      <th>LDLNBR</th>\n",
              "      <th>A1CNBR</th>\n",
              "      <th>GenderFLG</th>\n",
              "      <th>ThirtyDayReadmitFLG</th>\n",
              "    </tr>\n",
              "  </thead>\n",
              "  <tbody>\n",
              "    <tr>\n",
              "      <th>300</th>\n",
              "      <td>150</td>\n",
              "      <td>147</td>\n",
              "      <td>None</td>\n",
              "      <td>F</td>\n",
              "      <td>None</td>\n",
              "    </tr>\n",
              "    <tr>\n",
              "      <th>376</th>\n",
              "      <td>150</td>\n",
              "      <td>147</td>\n",
              "      <td>None</td>\n",
              "      <td>F</td>\n",
              "      <td>None</td>\n",
              "    </tr>\n",
              "    <tr>\n",
              "      <th>429</th>\n",
              "      <td>150</td>\n",
              "      <td>147</td>\n",
              "      <td>None</td>\n",
              "      <td>F</td>\n",
              "      <td>None</td>\n",
              "    </tr>\n",
              "    <tr>\n",
              "      <th>440</th>\n",
              "      <td>150</td>\n",
              "      <td>147</td>\n",
              "      <td>None</td>\n",
              "      <td>F</td>\n",
              "      <td>None</td>\n",
              "    </tr>\n",
              "    <tr>\n",
              "      <th>562</th>\n",
              "      <td>150</td>\n",
              "      <td>147</td>\n",
              "      <td>None</td>\n",
              "      <td>F</td>\n",
              "      <td>None</td>\n",
              "    </tr>\n",
              "    <tr>\n",
              "      <th>693</th>\n",
              "      <td>150</td>\n",
              "      <td>147</td>\n",
              "      <td>None</td>\n",
              "      <td>F</td>\n",
              "      <td>None</td>\n",
              "    </tr>\n",
              "    <tr>\n",
              "      <th>731</th>\n",
              "      <td>150</td>\n",
              "      <td>147</td>\n",
              "      <td>None</td>\n",
              "      <td>F</td>\n",
              "      <td>None</td>\n",
              "    </tr>\n",
              "    <tr>\n",
              "      <th>968</th>\n",
              "      <td>150</td>\n",
              "      <td>147</td>\n",
              "      <td>None</td>\n",
              "      <td>F</td>\n",
              "      <td>None</td>\n",
              "    </tr>\n",
              "  </tbody>\n",
              "</table>\n",
              "</div>"
            ],
            "text/plain": [
              "    SystolicBPNBR LDLNBR A1CNBR GenderFLG ThirtyDayReadmitFLG\n",
              "300           150    147   None         F                None\n",
              "376           150    147   None         F                None\n",
              "429           150    147   None         F                None\n",
              "440           150    147   None         F                None\n",
              "562           150    147   None         F                None\n",
              "693           150    147   None         F                None\n",
              "731           150    147   None         F                None\n",
              "968           150    147   None         F                None"
            ]
          },
          "metadata": {},
          "execution_count": 233
        }
      ]
    },
    {
      "cell_type": "code",
      "metadata": {
        "deletable": true,
        "editable": true,
        "id": "mXEJ_aEmq47x",
        "colab": {
          "base_uri": "https://localhost:8080/",
          "height": 363
        },
        "outputId": "659382ab-0c43-427c-f34c-883156acaf79"
      },
      "source": [
        "dataset.query('GenderFLG == \"F\" and SystolicBPNBR == 150 and LDLNBR == 147')"
      ],
      "execution_count": null,
      "outputs": [
        {
          "output_type": "execute_result",
          "data": {
            "text/html": [
              "<div>\n",
              "<style scoped>\n",
              "    .dataframe tbody tr th:only-of-type {\n",
              "        vertical-align: middle;\n",
              "    }\n",
              "\n",
              "    .dataframe tbody tr th {\n",
              "        vertical-align: top;\n",
              "    }\n",
              "\n",
              "    .dataframe thead th {\n",
              "        text-align: right;\n",
              "    }\n",
              "</style>\n",
              "<table border=\"1\" class=\"dataframe\">\n",
              "  <thead>\n",
              "    <tr style=\"text-align: right;\">\n",
              "      <th></th>\n",
              "      <th>SystolicBPNBR</th>\n",
              "      <th>LDLNBR</th>\n",
              "      <th>A1CNBR</th>\n",
              "      <th>GenderFLG</th>\n",
              "      <th>ThirtyDayReadmitFLG</th>\n",
              "    </tr>\n",
              "  </thead>\n",
              "  <tbody>\n",
              "    <tr>\n",
              "      <th>300</th>\n",
              "      <td>150</td>\n",
              "      <td>147</td>\n",
              "      <td>None</td>\n",
              "      <td>F</td>\n",
              "      <td>None</td>\n",
              "    </tr>\n",
              "    <tr>\n",
              "      <th>309</th>\n",
              "      <td>150</td>\n",
              "      <td>147</td>\n",
              "      <td>None</td>\n",
              "      <td>F</td>\n",
              "      <td>N</td>\n",
              "    </tr>\n",
              "    <tr>\n",
              "      <th>314</th>\n",
              "      <td>150</td>\n",
              "      <td>147</td>\n",
              "      <td>None</td>\n",
              "      <td>F</td>\n",
              "      <td>N</td>\n",
              "    </tr>\n",
              "    <tr>\n",
              "      <th>376</th>\n",
              "      <td>150</td>\n",
              "      <td>147</td>\n",
              "      <td>None</td>\n",
              "      <td>F</td>\n",
              "      <td>None</td>\n",
              "    </tr>\n",
              "    <tr>\n",
              "      <th>429</th>\n",
              "      <td>150</td>\n",
              "      <td>147</td>\n",
              "      <td>None</td>\n",
              "      <td>F</td>\n",
              "      <td>None</td>\n",
              "    </tr>\n",
              "    <tr>\n",
              "      <th>440</th>\n",
              "      <td>150</td>\n",
              "      <td>147</td>\n",
              "      <td>None</td>\n",
              "      <td>F</td>\n",
              "      <td>None</td>\n",
              "    </tr>\n",
              "    <tr>\n",
              "      <th>562</th>\n",
              "      <td>150</td>\n",
              "      <td>147</td>\n",
              "      <td>None</td>\n",
              "      <td>F</td>\n",
              "      <td>None</td>\n",
              "    </tr>\n",
              "    <tr>\n",
              "      <th>693</th>\n",
              "      <td>150</td>\n",
              "      <td>147</td>\n",
              "      <td>None</td>\n",
              "      <td>F</td>\n",
              "      <td>None</td>\n",
              "    </tr>\n",
              "    <tr>\n",
              "      <th>731</th>\n",
              "      <td>150</td>\n",
              "      <td>147</td>\n",
              "      <td>None</td>\n",
              "      <td>F</td>\n",
              "      <td>None</td>\n",
              "    </tr>\n",
              "    <tr>\n",
              "      <th>968</th>\n",
              "      <td>150</td>\n",
              "      <td>147</td>\n",
              "      <td>None</td>\n",
              "      <td>F</td>\n",
              "      <td>None</td>\n",
              "    </tr>\n",
              "  </tbody>\n",
              "</table>\n",
              "</div>"
            ],
            "text/plain": [
              "    SystolicBPNBR LDLNBR A1CNBR GenderFLG ThirtyDayReadmitFLG\n",
              "300           150    147   None         F                None\n",
              "309           150    147   None         F                   N\n",
              "314           150    147   None         F                   N\n",
              "376           150    147   None         F                None\n",
              "429           150    147   None         F                None\n",
              "440           150    147   None         F                None\n",
              "562           150    147   None         F                None\n",
              "693           150    147   None         F                None\n",
              "731           150    147   None         F                None\n",
              "968           150    147   None         F                None"
            ]
          },
          "metadata": {},
          "execution_count": 234
        }
      ]
    },
    {
      "cell_type": "code",
      "metadata": {
        "deletable": true,
        "editable": true,
        "id": "wKFsN5vfq48C",
        "colab": {
          "base_uri": "https://localhost:8080/",
          "height": 49
        },
        "outputId": "2b8d2ab5-18e1-49e7-b8c0-9de5ccbe7b41"
      },
      "source": [
        "dataset.loc[(dataset.GenderFLG == 'F') & (dataset.SystolicBPNBR == 150) & (dataset.LDLNBR == 147), 'ThirtyDayReadmitFLG'] = 'N'\n",
        "dataset.query('GenderFLG == \"F\" and ThirtyDayReadmitFLG == \"None\"')"
      ],
      "execution_count": null,
      "outputs": [
        {
          "output_type": "execute_result",
          "data": {
            "text/html": [
              "<div>\n",
              "<style scoped>\n",
              "    .dataframe tbody tr th:only-of-type {\n",
              "        vertical-align: middle;\n",
              "    }\n",
              "\n",
              "    .dataframe tbody tr th {\n",
              "        vertical-align: top;\n",
              "    }\n",
              "\n",
              "    .dataframe thead th {\n",
              "        text-align: right;\n",
              "    }\n",
              "</style>\n",
              "<table border=\"1\" class=\"dataframe\">\n",
              "  <thead>\n",
              "    <tr style=\"text-align: right;\">\n",
              "      <th></th>\n",
              "      <th>SystolicBPNBR</th>\n",
              "      <th>LDLNBR</th>\n",
              "      <th>A1CNBR</th>\n",
              "      <th>GenderFLG</th>\n",
              "      <th>ThirtyDayReadmitFLG</th>\n",
              "    </tr>\n",
              "  </thead>\n",
              "  <tbody>\n",
              "  </tbody>\n",
              "</table>\n",
              "</div>"
            ],
            "text/plain": [
              "Empty DataFrame\n",
              "Columns: [SystolicBPNBR, LDLNBR, A1CNBR, GenderFLG, ThirtyDayReadmitFLG]\n",
              "Index: []"
            ]
          },
          "metadata": {},
          "execution_count": 235
        }
      ]
    },
    {
      "cell_type": "markdown",
      "metadata": {
        "deletable": true,
        "editable": true,
        "id": "as2wWOnCq48S"
      },
      "source": [
        "## Limpieza columna A1CNBR"
      ]
    },
    {
      "cell_type": "code",
      "metadata": {
        "deletable": true,
        "editable": true,
        "id": "8Ar-g8Wfq48X",
        "colab": {
          "base_uri": "https://localhost:8080/",
          "height": 143
        },
        "outputId": "954218aa-417c-43d7-9935-5b5dd2bc8ac0"
      },
      "source": [
        "# Arreglamos los None para la columna A1CNBR para usuarios masculinos\n",
        "dataset.query('GenderFLG == \"M\" and A1CNBR == \"None\"')"
      ],
      "execution_count": null,
      "outputs": [
        {
          "output_type": "execute_result",
          "data": {
            "text/html": [
              "<div>\n",
              "<style scoped>\n",
              "    .dataframe tbody tr th:only-of-type {\n",
              "        vertical-align: middle;\n",
              "    }\n",
              "\n",
              "    .dataframe tbody tr th {\n",
              "        vertical-align: top;\n",
              "    }\n",
              "\n",
              "    .dataframe thead th {\n",
              "        text-align: right;\n",
              "    }\n",
              "</style>\n",
              "<table border=\"1\" class=\"dataframe\">\n",
              "  <thead>\n",
              "    <tr style=\"text-align: right;\">\n",
              "      <th></th>\n",
              "      <th>SystolicBPNBR</th>\n",
              "      <th>LDLNBR</th>\n",
              "      <th>A1CNBR</th>\n",
              "      <th>GenderFLG</th>\n",
              "      <th>ThirtyDayReadmitFLG</th>\n",
              "    </tr>\n",
              "  </thead>\n",
              "  <tbody>\n",
              "    <tr>\n",
              "      <th>81</th>\n",
              "      <td>149</td>\n",
              "      <td>139</td>\n",
              "      <td>None</td>\n",
              "      <td>M</td>\n",
              "      <td>Y</td>\n",
              "    </tr>\n",
              "    <tr>\n",
              "      <th>230</th>\n",
              "      <td>149</td>\n",
              "      <td>139</td>\n",
              "      <td>None</td>\n",
              "      <td>M</td>\n",
              "      <td>Y</td>\n",
              "    </tr>\n",
              "    <tr>\n",
              "      <th>520</th>\n",
              "      <td>149</td>\n",
              "      <td>139</td>\n",
              "      <td>None</td>\n",
              "      <td>M</td>\n",
              "      <td>Y</td>\n",
              "    </tr>\n",
              "  </tbody>\n",
              "</table>\n",
              "</div>"
            ],
            "text/plain": [
              "    SystolicBPNBR LDLNBR A1CNBR GenderFLG ThirtyDayReadmitFLG\n",
              "81            149    139   None         M                   Y\n",
              "230           149    139   None         M                   Y\n",
              "520           149    139   None         M                   Y"
            ]
          },
          "metadata": {},
          "execution_count": 236
        }
      ]
    },
    {
      "cell_type": "code",
      "metadata": {
        "deletable": true,
        "editable": true,
        "id": "hxcZsk1vq48t",
        "colab": {
          "base_uri": "https://localhost:8080/",
          "height": 143
        },
        "outputId": "f3a8ff31-9e52-4e4a-b294-7e6612c6a594"
      },
      "source": [
        "dataset.query('GenderFLG == \"M\" and SystolicBPNBR == 149 and LDLNBR == 139')"
      ],
      "execution_count": null,
      "outputs": [
        {
          "output_type": "execute_result",
          "data": {
            "text/html": [
              "<div>\n",
              "<style scoped>\n",
              "    .dataframe tbody tr th:only-of-type {\n",
              "        vertical-align: middle;\n",
              "    }\n",
              "\n",
              "    .dataframe tbody tr th {\n",
              "        vertical-align: top;\n",
              "    }\n",
              "\n",
              "    .dataframe thead th {\n",
              "        text-align: right;\n",
              "    }\n",
              "</style>\n",
              "<table border=\"1\" class=\"dataframe\">\n",
              "  <thead>\n",
              "    <tr style=\"text-align: right;\">\n",
              "      <th></th>\n",
              "      <th>SystolicBPNBR</th>\n",
              "      <th>LDLNBR</th>\n",
              "      <th>A1CNBR</th>\n",
              "      <th>GenderFLG</th>\n",
              "      <th>ThirtyDayReadmitFLG</th>\n",
              "    </tr>\n",
              "  </thead>\n",
              "  <tbody>\n",
              "    <tr>\n",
              "      <th>81</th>\n",
              "      <td>149</td>\n",
              "      <td>139</td>\n",
              "      <td>None</td>\n",
              "      <td>M</td>\n",
              "      <td>Y</td>\n",
              "    </tr>\n",
              "    <tr>\n",
              "      <th>230</th>\n",
              "      <td>149</td>\n",
              "      <td>139</td>\n",
              "      <td>None</td>\n",
              "      <td>M</td>\n",
              "      <td>Y</td>\n",
              "    </tr>\n",
              "    <tr>\n",
              "      <th>520</th>\n",
              "      <td>149</td>\n",
              "      <td>139</td>\n",
              "      <td>None</td>\n",
              "      <td>M</td>\n",
              "      <td>Y</td>\n",
              "    </tr>\n",
              "  </tbody>\n",
              "</table>\n",
              "</div>"
            ],
            "text/plain": [
              "    SystolicBPNBR LDLNBR A1CNBR GenderFLG ThirtyDayReadmitFLG\n",
              "81            149    139   None         M                   Y\n",
              "230           149    139   None         M                   Y\n",
              "520           149    139   None         M                   Y"
            ]
          },
          "metadata": {},
          "execution_count": 237
        }
      ]
    },
    {
      "cell_type": "code",
      "metadata": {
        "deletable": true,
        "editable": true,
        "id": "yHBPMVbLq49C",
        "colab": {
          "base_uri": "https://localhost:8080/",
          "height": 424
        },
        "outputId": "6fba09d7-60eb-435d-c2f7-7fe5221a522c"
      },
      "source": [
        "dataset.query('GenderFLG == \"M\" and A1CNBR != \"None\"')"
      ],
      "execution_count": null,
      "outputs": [
        {
          "output_type": "execute_result",
          "data": {
            "text/html": [
              "<div>\n",
              "<style scoped>\n",
              "    .dataframe tbody tr th:only-of-type {\n",
              "        vertical-align: middle;\n",
              "    }\n",
              "\n",
              "    .dataframe tbody tr th {\n",
              "        vertical-align: top;\n",
              "    }\n",
              "\n",
              "    .dataframe thead th {\n",
              "        text-align: right;\n",
              "    }\n",
              "</style>\n",
              "<table border=\"1\" class=\"dataframe\">\n",
              "  <thead>\n",
              "    <tr style=\"text-align: right;\">\n",
              "      <th></th>\n",
              "      <th>SystolicBPNBR</th>\n",
              "      <th>LDLNBR</th>\n",
              "      <th>A1CNBR</th>\n",
              "      <th>GenderFLG</th>\n",
              "      <th>ThirtyDayReadmitFLG</th>\n",
              "    </tr>\n",
              "  </thead>\n",
              "  <tbody>\n",
              "    <tr>\n",
              "      <th>0</th>\n",
              "      <td>167</td>\n",
              "      <td>195</td>\n",
              "      <td>4.2</td>\n",
              "      <td>M</td>\n",
              "      <td>N</td>\n",
              "    </tr>\n",
              "    <tr>\n",
              "      <th>1</th>\n",
              "      <td>153</td>\n",
              "      <td>214</td>\n",
              "      <td>5</td>\n",
              "      <td>M</td>\n",
              "      <td>N</td>\n",
              "    </tr>\n",
              "    <tr>\n",
              "      <th>2</th>\n",
              "      <td>170</td>\n",
              "      <td>191</td>\n",
              "      <td>4</td>\n",
              "      <td>M</td>\n",
              "      <td>N</td>\n",
              "    </tr>\n",
              "    <tr>\n",
              "      <th>3</th>\n",
              "      <td>187</td>\n",
              "      <td>135</td>\n",
              "      <td>4.4</td>\n",
              "      <td>M</td>\n",
              "      <td>N</td>\n",
              "    </tr>\n",
              "    <tr>\n",
              "      <th>4</th>\n",
              "      <td>188</td>\n",
              "      <td>125</td>\n",
              "      <td>4.3</td>\n",
              "      <td>M</td>\n",
              "      <td>N</td>\n",
              "    </tr>\n",
              "    <tr>\n",
              "      <th>...</th>\n",
              "      <td>...</td>\n",
              "      <td>...</td>\n",
              "      <td>...</td>\n",
              "      <td>...</td>\n",
              "      <td>...</td>\n",
              "    </tr>\n",
              "    <tr>\n",
              "      <th>972</th>\n",
              "      <td>174</td>\n",
              "      <td>119</td>\n",
              "      <td>7</td>\n",
              "      <td>M</td>\n",
              "      <td>N</td>\n",
              "    </tr>\n",
              "    <tr>\n",
              "      <th>990</th>\n",
              "      <td>121</td>\n",
              "      <td>106</td>\n",
              "      <td>6.3</td>\n",
              "      <td>M</td>\n",
              "      <td>N</td>\n",
              "    </tr>\n",
              "    <tr>\n",
              "      <th>991</th>\n",
              "      <td>106</td>\n",
              "      <td>131</td>\n",
              "      <td>4</td>\n",
              "      <td>M</td>\n",
              "      <td>N</td>\n",
              "    </tr>\n",
              "    <tr>\n",
              "      <th>992</th>\n",
              "      <td>125</td>\n",
              "      <td>98</td>\n",
              "      <td>7</td>\n",
              "      <td>M</td>\n",
              "      <td>N</td>\n",
              "    </tr>\n",
              "    <tr>\n",
              "      <th>993</th>\n",
              "      <td>112</td>\n",
              "      <td>120</td>\n",
              "      <td>5</td>\n",
              "      <td>M</td>\n",
              "      <td>N</td>\n",
              "    </tr>\n",
              "  </tbody>\n",
              "</table>\n",
              "<p>482 rows × 5 columns</p>\n",
              "</div>"
            ],
            "text/plain": [
              "    SystolicBPNBR LDLNBR A1CNBR GenderFLG ThirtyDayReadmitFLG\n",
              "0             167    195    4.2         M                   N\n",
              "1             153    214      5         M                   N\n",
              "2             170    191      4         M                   N\n",
              "3             187    135    4.4         M                   N\n",
              "4             188    125    4.3         M                   N\n",
              "..            ...    ...    ...       ...                 ...\n",
              "972           174    119      7         M                   N\n",
              "990           121    106    6.3         M                   N\n",
              "991           106    131      4         M                   N\n",
              "992           125     98      7         M                   N\n",
              "993           112    120      5         M                   N\n",
              "\n",
              "[482 rows x 5 columns]"
            ]
          },
          "metadata": {},
          "execution_count": 238
        }
      ]
    },
    {
      "cell_type": "code",
      "metadata": {
        "deletable": true,
        "editable": true,
        "id": "j4uvnviZq49W",
        "colab": {
          "base_uri": "https://localhost:8080/"
        },
        "outputId": "031d8b0b-781d-47eb-a892-e666ef1093bb"
      },
      "source": [
        "#Como en el query de arriba la A1CNBR es None en los tres casos, no se pueden tomar en cuenta\n",
        "#el SystolicBPNBR y el LDLNBR, por eso si tomamos el promedio\n",
        "round(dataset.query('GenderFLG == \"M\" and A1CNBR != \"None\"')['A1CNBR'].astype('float16').mean())"
      ],
      "execution_count": null,
      "outputs": [
        {
          "output_type": "execute_result",
          "data": {
            "text/plain": [
              "6"
            ]
          },
          "metadata": {},
          "execution_count": 239
        }
      ]
    },
    {
      "cell_type": "code",
      "metadata": {
        "deletable": true,
        "editable": true,
        "id": "O2ZYVS1Iq49n",
        "colab": {
          "base_uri": "https://localhost:8080/",
          "height": 49
        },
        "outputId": "66bb94fe-659c-4d51-fe5a-63146247b187"
      },
      "source": [
        "dataset.loc[(dataset.GenderFLG == 'M') & (dataset.A1CNBR == 'None'), 'A1CNBR'] = 6.0\n",
        "dataset.query('GenderFLG == \"M\" and A1CNBR == \"None\"')"
      ],
      "execution_count": null,
      "outputs": [
        {
          "output_type": "execute_result",
          "data": {
            "text/html": [
              "<div>\n",
              "<style scoped>\n",
              "    .dataframe tbody tr th:only-of-type {\n",
              "        vertical-align: middle;\n",
              "    }\n",
              "\n",
              "    .dataframe tbody tr th {\n",
              "        vertical-align: top;\n",
              "    }\n",
              "\n",
              "    .dataframe thead th {\n",
              "        text-align: right;\n",
              "    }\n",
              "</style>\n",
              "<table border=\"1\" class=\"dataframe\">\n",
              "  <thead>\n",
              "    <tr style=\"text-align: right;\">\n",
              "      <th></th>\n",
              "      <th>SystolicBPNBR</th>\n",
              "      <th>LDLNBR</th>\n",
              "      <th>A1CNBR</th>\n",
              "      <th>GenderFLG</th>\n",
              "      <th>ThirtyDayReadmitFLG</th>\n",
              "    </tr>\n",
              "  </thead>\n",
              "  <tbody>\n",
              "  </tbody>\n",
              "</table>\n",
              "</div>"
            ],
            "text/plain": [
              "Empty DataFrame\n",
              "Columns: [SystolicBPNBR, LDLNBR, A1CNBR, GenderFLG, ThirtyDayReadmitFLG]\n",
              "Index: []"
            ]
          },
          "metadata": {},
          "execution_count": 240
        }
      ]
    },
    {
      "cell_type": "code",
      "metadata": {
        "deletable": true,
        "editable": true,
        "id": "WzJ2rc5Aq4-F",
        "colab": {
          "base_uri": "https://localhost:8080/",
          "height": 363
        },
        "outputId": "df438b71-80e2-4d92-fc4a-3624a9377081"
      },
      "source": [
        "# Arreglamos los None para la columna A1CNBR para usuarios femeninos\n",
        "dataset.query('GenderFLG == \"F\" and A1CNBR == \"None\"')"
      ],
      "execution_count": null,
      "outputs": [
        {
          "output_type": "execute_result",
          "data": {
            "text/html": [
              "<div>\n",
              "<style scoped>\n",
              "    .dataframe tbody tr th:only-of-type {\n",
              "        vertical-align: middle;\n",
              "    }\n",
              "\n",
              "    .dataframe tbody tr th {\n",
              "        vertical-align: top;\n",
              "    }\n",
              "\n",
              "    .dataframe thead th {\n",
              "        text-align: right;\n",
              "    }\n",
              "</style>\n",
              "<table border=\"1\" class=\"dataframe\">\n",
              "  <thead>\n",
              "    <tr style=\"text-align: right;\">\n",
              "      <th></th>\n",
              "      <th>SystolicBPNBR</th>\n",
              "      <th>LDLNBR</th>\n",
              "      <th>A1CNBR</th>\n",
              "      <th>GenderFLG</th>\n",
              "      <th>ThirtyDayReadmitFLG</th>\n",
              "    </tr>\n",
              "  </thead>\n",
              "  <tbody>\n",
              "    <tr>\n",
              "      <th>300</th>\n",
              "      <td>150</td>\n",
              "      <td>147</td>\n",
              "      <td>None</td>\n",
              "      <td>F</td>\n",
              "      <td>N</td>\n",
              "    </tr>\n",
              "    <tr>\n",
              "      <th>309</th>\n",
              "      <td>150</td>\n",
              "      <td>147</td>\n",
              "      <td>None</td>\n",
              "      <td>F</td>\n",
              "      <td>N</td>\n",
              "    </tr>\n",
              "    <tr>\n",
              "      <th>314</th>\n",
              "      <td>150</td>\n",
              "      <td>147</td>\n",
              "      <td>None</td>\n",
              "      <td>F</td>\n",
              "      <td>N</td>\n",
              "    </tr>\n",
              "    <tr>\n",
              "      <th>376</th>\n",
              "      <td>150</td>\n",
              "      <td>147</td>\n",
              "      <td>None</td>\n",
              "      <td>F</td>\n",
              "      <td>N</td>\n",
              "    </tr>\n",
              "    <tr>\n",
              "      <th>429</th>\n",
              "      <td>150</td>\n",
              "      <td>147</td>\n",
              "      <td>None</td>\n",
              "      <td>F</td>\n",
              "      <td>N</td>\n",
              "    </tr>\n",
              "    <tr>\n",
              "      <th>440</th>\n",
              "      <td>150</td>\n",
              "      <td>147</td>\n",
              "      <td>None</td>\n",
              "      <td>F</td>\n",
              "      <td>N</td>\n",
              "    </tr>\n",
              "    <tr>\n",
              "      <th>562</th>\n",
              "      <td>150</td>\n",
              "      <td>147</td>\n",
              "      <td>None</td>\n",
              "      <td>F</td>\n",
              "      <td>N</td>\n",
              "    </tr>\n",
              "    <tr>\n",
              "      <th>693</th>\n",
              "      <td>150</td>\n",
              "      <td>147</td>\n",
              "      <td>None</td>\n",
              "      <td>F</td>\n",
              "      <td>N</td>\n",
              "    </tr>\n",
              "    <tr>\n",
              "      <th>731</th>\n",
              "      <td>150</td>\n",
              "      <td>147</td>\n",
              "      <td>None</td>\n",
              "      <td>F</td>\n",
              "      <td>N</td>\n",
              "    </tr>\n",
              "    <tr>\n",
              "      <th>968</th>\n",
              "      <td>150</td>\n",
              "      <td>147</td>\n",
              "      <td>None</td>\n",
              "      <td>F</td>\n",
              "      <td>N</td>\n",
              "    </tr>\n",
              "  </tbody>\n",
              "</table>\n",
              "</div>"
            ],
            "text/plain": [
              "    SystolicBPNBR LDLNBR A1CNBR GenderFLG ThirtyDayReadmitFLG\n",
              "300           150    147   None         F                   N\n",
              "309           150    147   None         F                   N\n",
              "314           150    147   None         F                   N\n",
              "376           150    147   None         F                   N\n",
              "429           150    147   None         F                   N\n",
              "440           150    147   None         F                   N\n",
              "562           150    147   None         F                   N\n",
              "693           150    147   None         F                   N\n",
              "731           150    147   None         F                   N\n",
              "968           150    147   None         F                   N"
            ]
          },
          "metadata": {},
          "execution_count": 241
        }
      ]
    },
    {
      "cell_type": "code",
      "metadata": {
        "deletable": true,
        "editable": true,
        "id": "rcJcHNGFq4-X",
        "colab": {
          "base_uri": "https://localhost:8080/"
        },
        "outputId": "32ec525b-0d83-4687-caaa-a51a50f54199"
      },
      "source": [
        "round(dataset.query('GenderFLG == \"F\" and A1CNBR != \"None\"')['A1CNBR'].astype('float16').mean())"
      ],
      "execution_count": null,
      "outputs": [
        {
          "output_type": "execute_result",
          "data": {
            "text/plain": [
              "6"
            ]
          },
          "metadata": {},
          "execution_count": 242
        }
      ]
    },
    {
      "cell_type": "code",
      "metadata": {
        "deletable": true,
        "editable": true,
        "id": "KauTNzFyq4-z",
        "colab": {
          "base_uri": "https://localhost:8080/",
          "height": 49
        },
        "outputId": "e2167d6e-77f3-4904-979e-f9a9ccc229ff"
      },
      "source": [
        "dataset.loc[(dataset.GenderFLG == 'F') & (dataset.A1CNBR == 'None'), 'A1CNBR'] = 6.0\n",
        "dataset.query('GenderFLG == \"F\" and A1CNBR == \"None\"')"
      ],
      "execution_count": null,
      "outputs": [
        {
          "output_type": "execute_result",
          "data": {
            "text/html": [
              "<div>\n",
              "<style scoped>\n",
              "    .dataframe tbody tr th:only-of-type {\n",
              "        vertical-align: middle;\n",
              "    }\n",
              "\n",
              "    .dataframe tbody tr th {\n",
              "        vertical-align: top;\n",
              "    }\n",
              "\n",
              "    .dataframe thead th {\n",
              "        text-align: right;\n",
              "    }\n",
              "</style>\n",
              "<table border=\"1\" class=\"dataframe\">\n",
              "  <thead>\n",
              "    <tr style=\"text-align: right;\">\n",
              "      <th></th>\n",
              "      <th>SystolicBPNBR</th>\n",
              "      <th>LDLNBR</th>\n",
              "      <th>A1CNBR</th>\n",
              "      <th>GenderFLG</th>\n",
              "      <th>ThirtyDayReadmitFLG</th>\n",
              "    </tr>\n",
              "  </thead>\n",
              "  <tbody>\n",
              "  </tbody>\n",
              "</table>\n",
              "</div>"
            ],
            "text/plain": [
              "Empty DataFrame\n",
              "Columns: [SystolicBPNBR, LDLNBR, A1CNBR, GenderFLG, ThirtyDayReadmitFLG]\n",
              "Index: []"
            ]
          },
          "metadata": {},
          "execution_count": 243
        }
      ]
    },
    {
      "cell_type": "markdown",
      "metadata": {
        "id": "ekkXdFvcq4_H"
      },
      "source": [
        "## Preprocesamiento 1 hot encoding"
      ]
    },
    {
      "cell_type": "code",
      "metadata": {
        "deletable": true,
        "editable": true,
        "id": "GZEMawe4q4_M"
      },
      "source": [
        "# Convertimos en numeros los valores de las columnas \"GenderFLG\" y \"ThirtyDayReadmitFLG\"\n",
        "mapeoGenero = {'M': 0, 'F': 1}\n",
        "mapeoTDRF = {'N': 0, 'Y': 1}\n",
        "dataset = dataset.replace({'GenderFLG': mapeoGenero, 'ThirtyDayReadmitFLG': mapeoTDRF})"
      ],
      "execution_count": null,
      "outputs": []
    },
    {
      "cell_type": "code",
      "metadata": {
        "colab": {
          "base_uri": "https://localhost:8080/",
          "height": 206
        },
        "id": "V2H0StqL0BCs",
        "outputId": "501ce992-2933-481f-89bb-8dcdb0c0c0c1"
      },
      "source": [
        "dataset.head()"
      ],
      "execution_count": null,
      "outputs": [
        {
          "output_type": "execute_result",
          "data": {
            "text/html": [
              "<div>\n",
              "<style scoped>\n",
              "    .dataframe tbody tr th:only-of-type {\n",
              "        vertical-align: middle;\n",
              "    }\n",
              "\n",
              "    .dataframe tbody tr th {\n",
              "        vertical-align: top;\n",
              "    }\n",
              "\n",
              "    .dataframe thead th {\n",
              "        text-align: right;\n",
              "    }\n",
              "</style>\n",
              "<table border=\"1\" class=\"dataframe\">\n",
              "  <thead>\n",
              "    <tr style=\"text-align: right;\">\n",
              "      <th></th>\n",
              "      <th>SystolicBPNBR</th>\n",
              "      <th>LDLNBR</th>\n",
              "      <th>A1CNBR</th>\n",
              "      <th>GenderFLG</th>\n",
              "      <th>ThirtyDayReadmitFLG</th>\n",
              "    </tr>\n",
              "  </thead>\n",
              "  <tbody>\n",
              "    <tr>\n",
              "      <th>0</th>\n",
              "      <td>167</td>\n",
              "      <td>195</td>\n",
              "      <td>4.2</td>\n",
              "      <td>0</td>\n",
              "      <td>0</td>\n",
              "    </tr>\n",
              "    <tr>\n",
              "      <th>1</th>\n",
              "      <td>153</td>\n",
              "      <td>214</td>\n",
              "      <td>5</td>\n",
              "      <td>0</td>\n",
              "      <td>0</td>\n",
              "    </tr>\n",
              "    <tr>\n",
              "      <th>2</th>\n",
              "      <td>170</td>\n",
              "      <td>191</td>\n",
              "      <td>4</td>\n",
              "      <td>0</td>\n",
              "      <td>0</td>\n",
              "    </tr>\n",
              "    <tr>\n",
              "      <th>3</th>\n",
              "      <td>187</td>\n",
              "      <td>135</td>\n",
              "      <td>4.4</td>\n",
              "      <td>0</td>\n",
              "      <td>0</td>\n",
              "    </tr>\n",
              "    <tr>\n",
              "      <th>4</th>\n",
              "      <td>188</td>\n",
              "      <td>125</td>\n",
              "      <td>4.3</td>\n",
              "      <td>0</td>\n",
              "      <td>0</td>\n",
              "    </tr>\n",
              "  </tbody>\n",
              "</table>\n",
              "</div>"
            ],
            "text/plain": [
              "  SystolicBPNBR LDLNBR A1CNBR  GenderFLG  ThirtyDayReadmitFLG\n",
              "0           167    195    4.2          0                    0\n",
              "1           153    214      5          0                    0\n",
              "2           170    191      4          0                    0\n",
              "3           187    135    4.4          0                    0\n",
              "4           188    125    4.3          0                    0"
            ]
          },
          "metadata": {},
          "execution_count": 245
        }
      ]
    },
    {
      "cell_type": "markdown",
      "metadata": {
        "id": "UVIvCxadz6VZ"
      },
      "source": [
        "## Normalización de datos"
      ]
    },
    {
      "cell_type": "code",
      "metadata": {
        "id": "AFIBjBUv1Jfj"
      },
      "source": [
        "# Función para extraer el máximo y mínimo\n",
        "def minmax(lista):\n",
        "  valorMayor = 0\n",
        "  valorMenor = lista[0]\n",
        "  sizeLista = len(lista)\n",
        "  for i in range(sizeLista):\n",
        "    if lista[i] > valorMayor:\n",
        "      valorMayor = lista[i]\n",
        "    elif lista[i] < valorMenor:\n",
        "      valorMenor = lista[i]\n",
        "  return valorMenor, valorMayor"
      ],
      "execution_count": null,
      "outputs": []
    },
    {
      "cell_type": "code",
      "metadata": {
        "colab": {
          "base_uri": "https://localhost:8080/"
        },
        "id": "b3WKbSWMz-b9",
        "outputId": "b7ba1ffc-1f00-4c9a-9ad0-a506a6d0e33f"
      },
      "source": [
        "# Normalización de las columnas\n",
        "columnas = dataset.columns\n",
        "for i in columnas:\n",
        "  dataset[i] = pd.to_numeric(dataset[i])\n",
        "  min, max = minmax(dataset[i])\n",
        "  dataset[i] = (dataset[i] - min)/max\n",
        "  print(min, max)"
      ],
      "execution_count": null,
      "outputs": [
        {
          "output_type": "stream",
          "text": [
            "0.0 0.5\n",
            "0.0 0.6772727272727272\n",
            "0.0 0.5\n",
            "0.0 1.0\n",
            "0.0 1.0\n"
          ],
          "name": "stdout"
        }
      ]
    },
    {
      "cell_type": "code",
      "metadata": {
        "colab": {
          "base_uri": "https://localhost:8080/",
          "height": 206
        },
        "id": "SR9w8XwR0wUk",
        "outputId": "857dde1d-a689-4d48-a4ad-0211af391c6b"
      },
      "source": [
        "dataset.head()"
      ],
      "execution_count": null,
      "outputs": [
        {
          "output_type": "execute_result",
          "data": {
            "text/html": [
              "<div>\n",
              "<style scoped>\n",
              "    .dataframe tbody tr th:only-of-type {\n",
              "        vertical-align: middle;\n",
              "    }\n",
              "\n",
              "    .dataframe tbody tr th {\n",
              "        vertical-align: top;\n",
              "    }\n",
              "\n",
              "    .dataframe thead th {\n",
              "        text-align: right;\n",
              "    }\n",
              "</style>\n",
              "<table border=\"1\" class=\"dataframe\">\n",
              "  <thead>\n",
              "    <tr style=\"text-align: right;\">\n",
              "      <th></th>\n",
              "      <th>SystolicBPNBR</th>\n",
              "      <th>LDLNBR</th>\n",
              "      <th>A1CNBR</th>\n",
              "      <th>GenderFLG</th>\n",
              "      <th>ThirtyDayReadmitFLG</th>\n",
              "    </tr>\n",
              "  </thead>\n",
              "  <tbody>\n",
              "    <tr>\n",
              "      <th>0</th>\n",
              "      <td>0.67</td>\n",
              "      <td>0.832215</td>\n",
              "      <td>0.050</td>\n",
              "      <td>0.0</td>\n",
              "      <td>0.0</td>\n",
              "    </tr>\n",
              "    <tr>\n",
              "      <th>1</th>\n",
              "      <td>0.53</td>\n",
              "      <td>0.959732</td>\n",
              "      <td>0.250</td>\n",
              "      <td>0.0</td>\n",
              "      <td>0.0</td>\n",
              "    </tr>\n",
              "    <tr>\n",
              "      <th>2</th>\n",
              "      <td>0.70</td>\n",
              "      <td>0.805369</td>\n",
              "      <td>0.000</td>\n",
              "      <td>0.0</td>\n",
              "      <td>0.0</td>\n",
              "    </tr>\n",
              "    <tr>\n",
              "      <th>3</th>\n",
              "      <td>0.87</td>\n",
              "      <td>0.429530</td>\n",
              "      <td>0.100</td>\n",
              "      <td>0.0</td>\n",
              "      <td>0.0</td>\n",
              "    </tr>\n",
              "    <tr>\n",
              "      <th>4</th>\n",
              "      <td>0.88</td>\n",
              "      <td>0.362416</td>\n",
              "      <td>0.075</td>\n",
              "      <td>0.0</td>\n",
              "      <td>0.0</td>\n",
              "    </tr>\n",
              "  </tbody>\n",
              "</table>\n",
              "</div>"
            ],
            "text/plain": [
              "   SystolicBPNBR    LDLNBR  A1CNBR  GenderFLG  ThirtyDayReadmitFLG\n",
              "0           0.67  0.832215   0.050        0.0                  0.0\n",
              "1           0.53  0.959732   0.250        0.0                  0.0\n",
              "2           0.70  0.805369   0.000        0.0                  0.0\n",
              "3           0.87  0.429530   0.100        0.0                  0.0\n",
              "4           0.88  0.362416   0.075        0.0                  0.0"
            ]
          },
          "metadata": {},
          "execution_count": 251
        }
      ]
    },
    {
      "cell_type": "markdown",
      "metadata": {
        "id": "jK0I63XIV3MC"
      },
      "source": [
        "## Generación de nuevo archivo"
      ]
    },
    {
      "cell_type": "code",
      "metadata": {
        "id": "9AcyBxL23kmP"
      },
      "source": [
        "# Creación de un nuevo archivo csv\n",
        "dataset.to_csv('diabetesProcesado.csv', index=False)"
      ],
      "execution_count": null,
      "outputs": []
    },
    {
      "cell_type": "code",
      "metadata": {
        "id": "5J1nc--kW8jm"
      },
      "source": [
        ""
      ],
      "execution_count": null,
      "outputs": []
    }
  ]
}